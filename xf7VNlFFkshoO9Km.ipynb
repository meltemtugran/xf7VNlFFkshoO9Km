{
  "nbformat": 4,
  "nbformat_minor": 0,
  "metadata": {
    "colab": {
      "name": "xf7VNlFFkshoO9Km",
      "provenance": [],
      "collapsed_sections": [],
      "authorship_tag": "ABX9TyMvLIlFQjO4Tv4Cq+E1Dmdi",
      "include_colab_link": true
    },
    "kernelspec": {
      "name": "python3",
      "display_name": "Python 3"
    },
    "language_info": {
      "name": "python"
    }
  },
  "cells": [
    {
      "cell_type": "markdown",
      "metadata": {
        "id": "view-in-github",
        "colab_type": "text"
      },
      "source": [
        "<a href=\"https://colab.research.google.com/github/meltemtugran/xf7VNlFFkshoO9Km/blob/main/xf7VNlFFkshoO9Km.ipynb\" target=\"_parent\"><img src=\"https://colab.research.google.com/assets/colab-badge.svg\" alt=\"Open In Colab\"/></a>"
      ]
    },
    {
      "cell_type": "code",
      "metadata": {
        "id": "xusL3sTmRZfx"
      },
      "source": [
        "import numpy as np\n",
        "import pandas as pd\n",
        "import matplotlib as plt\n",
        "import seaborn as sns\n",
        "import matplotlib.pyplot as plt"
      ],
      "execution_count": null,
      "outputs": []
    },
    {
      "cell_type": "code",
      "metadata": {
        "colab": {
          "base_uri": "https://localhost:8080/",
          "height": 197
        },
        "id": "1BxbCjzIRed9",
        "outputId": "57a8e097-cd41-4643-9f67-91d9b3ef06a7"
      },
      "source": [
        "data = pd.read_csv('datas.csv')\n",
        "\n",
        "data.head()"
      ],
      "execution_count": null,
      "outputs": [
        {
          "output_type": "execute_result",
          "data": {
            "text/html": [
              "<div>\n",
              "<style scoped>\n",
              "    .dataframe tbody tr th:only-of-type {\n",
              "        vertical-align: middle;\n",
              "    }\n",
              "\n",
              "    .dataframe tbody tr th {\n",
              "        vertical-align: top;\n",
              "    }\n",
              "\n",
              "    .dataframe thead th {\n",
              "        text-align: right;\n",
              "    }\n",
              "</style>\n",
              "<table border=\"1\" class=\"dataframe\">\n",
              "  <thead>\n",
              "    <tr style=\"text-align: right;\">\n",
              "      <th></th>\n",
              "      <th>Y</th>\n",
              "      <th>X1</th>\n",
              "      <th>X2</th>\n",
              "      <th>X3</th>\n",
              "      <th>X4</th>\n",
              "      <th>X5</th>\n",
              "      <th>X6</th>\n",
              "    </tr>\n",
              "  </thead>\n",
              "  <tbody>\n",
              "    <tr>\n",
              "      <th>0</th>\n",
              "      <td>0</td>\n",
              "      <td>3</td>\n",
              "      <td>3</td>\n",
              "      <td>3</td>\n",
              "      <td>4</td>\n",
              "      <td>2</td>\n",
              "      <td>4</td>\n",
              "    </tr>\n",
              "    <tr>\n",
              "      <th>1</th>\n",
              "      <td>0</td>\n",
              "      <td>3</td>\n",
              "      <td>2</td>\n",
              "      <td>3</td>\n",
              "      <td>5</td>\n",
              "      <td>4</td>\n",
              "      <td>3</td>\n",
              "    </tr>\n",
              "    <tr>\n",
              "      <th>2</th>\n",
              "      <td>1</td>\n",
              "      <td>5</td>\n",
              "      <td>3</td>\n",
              "      <td>3</td>\n",
              "      <td>3</td>\n",
              "      <td>3</td>\n",
              "      <td>5</td>\n",
              "    </tr>\n",
              "    <tr>\n",
              "      <th>3</th>\n",
              "      <td>0</td>\n",
              "      <td>5</td>\n",
              "      <td>4</td>\n",
              "      <td>3</td>\n",
              "      <td>3</td>\n",
              "      <td>3</td>\n",
              "      <td>5</td>\n",
              "    </tr>\n",
              "    <tr>\n",
              "      <th>4</th>\n",
              "      <td>0</td>\n",
              "      <td>5</td>\n",
              "      <td>4</td>\n",
              "      <td>3</td>\n",
              "      <td>3</td>\n",
              "      <td>3</td>\n",
              "      <td>5</td>\n",
              "    </tr>\n",
              "  </tbody>\n",
              "</table>\n",
              "</div>"
            ],
            "text/plain": [
              "   Y  X1  X2  X3  X4  X5  X6\n",
              "0  0   3   3   3   4   2   4\n",
              "1  0   3   2   3   5   4   3\n",
              "2  1   5   3   3   3   3   5\n",
              "3  0   5   4   3   3   3   5\n",
              "4  0   5   4   3   3   3   5"
            ]
          },
          "metadata": {
            "tags": []
          },
          "execution_count": 2
        }
      ]
    },
    {
      "cell_type": "code",
      "metadata": {
        "colab": {
          "base_uri": "https://localhost:8080/",
          "height": 287
        },
        "id": "esoIY2IeRplo",
        "outputId": "328c6db1-6655-470e-a358-62538ae326bd"
      },
      "source": [
        "data.describe()"
      ],
      "execution_count": null,
      "outputs": [
        {
          "output_type": "execute_result",
          "data": {
            "text/html": [
              "<div>\n",
              "<style scoped>\n",
              "    .dataframe tbody tr th:only-of-type {\n",
              "        vertical-align: middle;\n",
              "    }\n",
              "\n",
              "    .dataframe tbody tr th {\n",
              "        vertical-align: top;\n",
              "    }\n",
              "\n",
              "    .dataframe thead th {\n",
              "        text-align: right;\n",
              "    }\n",
              "</style>\n",
              "<table border=\"1\" class=\"dataframe\">\n",
              "  <thead>\n",
              "    <tr style=\"text-align: right;\">\n",
              "      <th></th>\n",
              "      <th>Y</th>\n",
              "      <th>X1</th>\n",
              "      <th>X2</th>\n",
              "      <th>X3</th>\n",
              "      <th>X4</th>\n",
              "      <th>X5</th>\n",
              "      <th>X6</th>\n",
              "    </tr>\n",
              "  </thead>\n",
              "  <tbody>\n",
              "    <tr>\n",
              "      <th>count</th>\n",
              "      <td>126.000000</td>\n",
              "      <td>126.000000</td>\n",
              "      <td>126.000000</td>\n",
              "      <td>126.000000</td>\n",
              "      <td>126.000000</td>\n",
              "      <td>126.000000</td>\n",
              "      <td>126.000000</td>\n",
              "    </tr>\n",
              "    <tr>\n",
              "      <th>mean</th>\n",
              "      <td>0.547619</td>\n",
              "      <td>4.333333</td>\n",
              "      <td>2.531746</td>\n",
              "      <td>3.309524</td>\n",
              "      <td>3.746032</td>\n",
              "      <td>3.650794</td>\n",
              "      <td>4.253968</td>\n",
              "    </tr>\n",
              "    <tr>\n",
              "      <th>std</th>\n",
              "      <td>0.499714</td>\n",
              "      <td>0.800000</td>\n",
              "      <td>1.114892</td>\n",
              "      <td>1.023440</td>\n",
              "      <td>0.875776</td>\n",
              "      <td>1.147641</td>\n",
              "      <td>0.809311</td>\n",
              "    </tr>\n",
              "    <tr>\n",
              "      <th>min</th>\n",
              "      <td>0.000000</td>\n",
              "      <td>1.000000</td>\n",
              "      <td>1.000000</td>\n",
              "      <td>1.000000</td>\n",
              "      <td>1.000000</td>\n",
              "      <td>1.000000</td>\n",
              "      <td>1.000000</td>\n",
              "    </tr>\n",
              "    <tr>\n",
              "      <th>25%</th>\n",
              "      <td>0.000000</td>\n",
              "      <td>4.000000</td>\n",
              "      <td>2.000000</td>\n",
              "      <td>3.000000</td>\n",
              "      <td>3.000000</td>\n",
              "      <td>3.000000</td>\n",
              "      <td>4.000000</td>\n",
              "    </tr>\n",
              "    <tr>\n",
              "      <th>50%</th>\n",
              "      <td>1.000000</td>\n",
              "      <td>5.000000</td>\n",
              "      <td>3.000000</td>\n",
              "      <td>3.000000</td>\n",
              "      <td>4.000000</td>\n",
              "      <td>4.000000</td>\n",
              "      <td>4.000000</td>\n",
              "    </tr>\n",
              "    <tr>\n",
              "      <th>75%</th>\n",
              "      <td>1.000000</td>\n",
              "      <td>5.000000</td>\n",
              "      <td>3.000000</td>\n",
              "      <td>4.000000</td>\n",
              "      <td>4.000000</td>\n",
              "      <td>4.000000</td>\n",
              "      <td>5.000000</td>\n",
              "    </tr>\n",
              "    <tr>\n",
              "      <th>max</th>\n",
              "      <td>1.000000</td>\n",
              "      <td>5.000000</td>\n",
              "      <td>5.000000</td>\n",
              "      <td>5.000000</td>\n",
              "      <td>5.000000</td>\n",
              "      <td>5.000000</td>\n",
              "      <td>5.000000</td>\n",
              "    </tr>\n",
              "  </tbody>\n",
              "</table>\n",
              "</div>"
            ],
            "text/plain": [
              "                Y          X1          X2  ...          X4          X5          X6\n",
              "count  126.000000  126.000000  126.000000  ...  126.000000  126.000000  126.000000\n",
              "mean     0.547619    4.333333    2.531746  ...    3.746032    3.650794    4.253968\n",
              "std      0.499714    0.800000    1.114892  ...    0.875776    1.147641    0.809311\n",
              "min      0.000000    1.000000    1.000000  ...    1.000000    1.000000    1.000000\n",
              "25%      0.000000    4.000000    2.000000  ...    3.000000    3.000000    4.000000\n",
              "50%      1.000000    5.000000    3.000000  ...    4.000000    4.000000    4.000000\n",
              "75%      1.000000    5.000000    3.000000  ...    4.000000    4.000000    5.000000\n",
              "max      1.000000    5.000000    5.000000  ...    5.000000    5.000000    5.000000\n",
              "\n",
              "[8 rows x 7 columns]"
            ]
          },
          "metadata": {
            "tags": []
          },
          "execution_count": 3
        }
      ]
    },
    {
      "cell_type": "code",
      "metadata": {
        "colab": {
          "base_uri": "https://localhost:8080/"
        },
        "id": "hlofhBCBRsla",
        "outputId": "2c880f45-5aca-4c7c-e2bb-6fe9a0498029"
      },
      "source": [
        "print(\"(Rows, columns): \" + str(data.shape))\n",
        "data.columns"
      ],
      "execution_count": null,
      "outputs": [
        {
          "output_type": "stream",
          "text": [
            "(Rows, columns): (126, 7)\n"
          ],
          "name": "stdout"
        },
        {
          "output_type": "execute_result",
          "data": {
            "text/plain": [
              "Index(['Y', 'X1', 'X2', 'X3', 'X4', 'X5', 'X6'], dtype='object')"
            ]
          },
          "metadata": {
            "tags": []
          },
          "execution_count": 4
        }
      ]
    },
    {
      "cell_type": "code",
      "metadata": {
        "colab": {
          "base_uri": "https://localhost:8080/"
        },
        "id": "QY0fGpoIRye7",
        "outputId": "925213aa-dc1e-44bd-e712-f0993eb3e77f"
      },
      "source": [
        "print(data.isna().sum())"
      ],
      "execution_count": null,
      "outputs": [
        {
          "output_type": "stream",
          "text": [
            "Y     0\n",
            "X1    0\n",
            "X2    0\n",
            "X3    0\n",
            "X4    0\n",
            "X5    0\n",
            "X6    0\n",
            "dtype: int64\n"
          ],
          "name": "stdout"
        }
      ]
    },
    {
      "cell_type": "code",
      "metadata": {
        "colab": {
          "base_uri": "https://localhost:8080/"
        },
        "id": "_FFwXDM4R1Ai",
        "outputId": "151e901f-5646-4bfc-cb1e-46394c020cac"
      },
      "source": [
        "data['Y'].value_counts()"
      ],
      "execution_count": null,
      "outputs": [
        {
          "output_type": "execute_result",
          "data": {
            "text/plain": [
              "1    69\n",
              "0    57\n",
              "Name: Y, dtype: int64"
            ]
          },
          "metadata": {
            "tags": []
          },
          "execution_count": 8
        }
      ]
    },
    {
      "cell_type": "code",
      "metadata": {
        "colab": {
          "base_uri": "https://localhost:8080/",
          "height": 613
        },
        "id": "wMali26tSFEd",
        "outputId": "c74ba42c-c022-431b-e573-eeb9f6aae0e0"
      },
      "source": [
        "corr = data.corr()\n",
        "plt.subplots(figsize=(15,10))\n",
        "sns.heatmap(corr, xticklabels=corr.columns, yticklabels=corr.columns, annot=True, cmap=sns.diverging_palette(220, 20, as_cmap=True))\n",
        "sns.heatmap(corr, xticklabels=corr.columns,\n",
        "            yticklabels=corr.columns, \n",
        "            annot=True,\n",
        "            cmap=sns.diverging_palette(220, 20, as_cmap=True))"
      ],
      "execution_count": null,
      "outputs": [
        {
          "output_type": "execute_result",
          "data": {
            "text/plain": [
              "<matplotlib.axes._subplots.AxesSubplot at 0x7f0896d73650>"
            ]
          },
          "metadata": {
            "tags": []
          },
          "execution_count": 9
        },
        {
          "output_type": "display_data",
          "data": {
            "image/png": "[encoded data removed]",
            "text/plain": [
              "<Figure size 1080x720 with 3 Axes>"
            ]
          },
          "metadata": {
            "tags": [],
            "needs_background": "light"
          }
        }
      ]
    },
    {
      "cell_type": "markdown",
      "metadata": {
        "id": "2u2ty0v7Sb_r"
      },
      "source": [
        "yukarda görüldüğü gibi ; en yüksek korelasyon x1 ile ve pozitif yönde.en az korelasyon ise x3 ile arasında. negatif yönlü bir korelasyon vardır."
      ]
    },
    {
      "cell_type": "code",
      "metadata": {
        "colab": {
          "base_uri": "https://localhost:8080/"
        },
        "id": "Jpbtk1f2SOLc",
        "outputId": "e6cf3e18-57cf-414c-84e6-e318008b0971"
      },
      "source": [
        "categorical_val = []  #alternative plotting\n",
        "continous_val = []\n",
        "for column in data.columns:\n",
        "    print(' ')\n",
        "    print(f\"{column} : {data[column].unique()}\")\n",
        "    if len(data[column].unique()) <= 10:\n",
        "        categorical_val.append(column)\n",
        "    else:\n",
        "        continous_val.append(column)"
      ],
      "execution_count": null,
      "outputs": [
        {
          "output_type": "stream",
          "text": [
            " \n",
            "Y : [0 1]\n",
            " \n",
            "X1 : [3 5 4 1]\n",
            " \n",
            "X2 : [3 2 4 5 1]\n",
            " \n",
            "X3 : [3 2 4 5 1]\n",
            " \n",
            "X4 : [4 5 3 2 1]\n",
            " \n",
            "X5 : [2 4 3 5 1]\n",
            " \n",
            "X6 : [4 3 5 2 1]\n"
          ],
          "name": "stdout"
        }
      ]
    },
    {
      "cell_type": "code",
      "metadata": {
        "colab": {
          "base_uri": "https://localhost:8080/",
          "height": 876
        },
        "id": "ms0C3QpSTLi7",
        "outputId": "41481867-8bfa-45eb-8c7a-28087787f086"
      },
      "source": [
        "plt.figure(figsize=(15, 15))\n",
        "\n",
        "for i, column in enumerate(categorical_val, 1):\n",
        "    plt.subplot(3, 3, i)\n",
        "    data[data[\"Y\"] == 0][column].hist(bins=35, color='blue', label='MÜŞTERİNİN DURUMU = MUTSUZ', alpha=0.6)\n",
        "    data[data[\"Y\"] == 1][column].hist(bins=35, color='red', label='MÜŞTERİNİN DURUMU = MUTLU', alpha=0.6)\n",
        "    plt.legend()\n",
        "    plt.xlabel(column)"
      ],
      "execution_count": null,
      "outputs": [
        {
          "output_type": "display_data",
          "data": {
            "image/png": "[encoded data removed]",
            "text/plain": [
              "<Figure size 1080x1080 with 7 Axes>"
            ]
          },
          "metadata": {
            "tags": [],
            "needs_background": "light"
          }
        }
      ]
    },
    {
      "cell_type": "markdown",
      "metadata": {
        "id": "7tfrmGEjTzgx"
      },
      "source": [
        "#MODELLER:"
      ]
    },
    {
      "cell_type": "code",
      "metadata": {
        "id": "P9xbNQoATssL"
      },
      "source": [
        "X = data.iloc[:, :-1].values\n",
        "y = data.iloc[:, -1].values"
      ],
      "execution_count": null,
      "outputs": []
    },
    {
      "cell_type": "code",
      "metadata": {
        "id": "DSLUaFgjT4JD"
      },
      "source": [
        "from sklearn.model_selection import train_test_split\n",
        "x_train, x_test, y_train, y_test = train_test_split(X,y,test_size = 0.2, random_state = 1)"
      ],
      "execution_count": null,
      "outputs": []
    },
    {
      "cell_type": "code",
      "metadata": {
        "id": "PUwbZNgET-JL"
      },
      "source": [
        "from sklearn.preprocessing import StandardScaler\n",
        "sc = StandardScaler()\n",
        "x_train = sc.fit_transform(x_train)\n",
        "x_test = sc.transform(x_test)"
      ],
      "execution_count": null,
      "outputs": []
    },
    {
      "cell_type": "code",
      "metadata": {
        "colab": {
          "base_uri": "https://localhost:8080/"
        },
        "id": "FWcL9dKoUA00",
        "outputId": "d05f3aa9-af54-4143-ec42-d995fb0cf542"
      },
      "source": [
        "from sklearn.metrics import classification_report \n",
        "from sklearn.linear_model import LogisticRegression\n",
        "from sklearn.metrics import accuracy_score \n",
        "model1 = LogisticRegression(random_state=1) # get instance of model\n",
        "model1.fit(x_train, y_train) # Train/Fit model \n",
        "\n",
        "y_pred1 = model1.predict(x_test) # get y predictions\n",
        "print(classification_report(y_test, y_pred1)) # output accuracy"
      ],
      "execution_count": null,
      "outputs": [
        {
          "output_type": "stream",
          "text": [
            "              precision    recall  f1-score   support\n",
            "\n",
            "           1       0.00      0.00      0.00         1\n",
            "           3       0.00      0.00      0.00         3\n",
            "           4       0.40      0.67      0.50         6\n",
            "           5       0.75      0.75      0.75        16\n",
            "\n",
            "    accuracy                           0.62        26\n",
            "   macro avg       0.29      0.35      0.31        26\n",
            "weighted avg       0.55      0.62      0.58        26\n",
            "\n"
          ],
          "name": "stdout"
        },
        {
          "output_type": "stream",
          "text": [
            "/usr/local/lib/python3.7/dist-packages/sklearn/metrics/_classification.py:1272: UndefinedMetricWarning: Precision and F-score are ill-defined and being set to 0.0 in labels with no predicted samples. Use `zero_division` parameter to control this behavior.\n",
            "  _warn_prf(average, modifier, msg_start, len(result))\n"
          ],
          "name": "stderr"
        }
      ]
    },
    {
      "cell_type": "code",
      "metadata": {
        "colab": {
          "base_uri": "https://localhost:8080/"
        },
        "id": "-zSNK1bWUJ3j",
        "outputId": "bb3282eb-2488-464d-c9d5-66a525b59c77"
      },
      "source": [
        "accuracy_score(y_test,y_pred1)"
      ],
      "execution_count": null,
      "outputs": [
        {
          "output_type": "execute_result",
          "data": {
            "text/plain": [
              "0.6153846153846154"
            ]
          },
          "metadata": {
            "tags": []
          },
          "execution_count": 58
        }
      ]
    },
    {
      "cell_type": "code",
      "metadata": {
        "colab": {
          "base_uri": "https://localhost:8080/"
        },
        "id": "Mq-9JCxWUNo9",
        "outputId": "cc90ecb4-e1e0-4cc8-e88d-c78fd4bb2d03"
      },
      "source": [
        "from sklearn.metrics import classification_report \n",
        "from sklearn.neighbors import KNeighborsClassifier\n",
        "\n",
        "model2 = KNeighborsClassifier() # get instance of model\n",
        "model2.fit(x_train, y_train) # Train/Fit model \n",
        "\n",
        "y_pred2 = model2.predict(x_test) # get y predictions\n",
        "print(classification_report(y_test, y_pred2)) # output accuracy"
      ],
      "execution_count": null,
      "outputs": [
        {
          "output_type": "stream",
          "text": [
            "              precision    recall  f1-score   support\n",
            "\n",
            "           1       0.00      0.00      0.00         1\n",
            "           3       0.00      0.00      0.00         3\n",
            "           4       0.33      0.67      0.44         6\n",
            "           5       0.73      0.50      0.59        16\n",
            "\n",
            "    accuracy                           0.46        26\n",
            "   macro avg       0.27      0.29      0.26        26\n",
            "weighted avg       0.52      0.46      0.47        26\n",
            "\n"
          ],
          "name": "stdout"
        },
        {
          "output_type": "stream",
          "text": [
            "/usr/local/lib/python3.7/dist-packages/sklearn/metrics/_classification.py:1272: UndefinedMetricWarning: Precision and F-score are ill-defined and being set to 0.0 in labels with no predicted samples. Use `zero_division` parameter to control this behavior.\n",
            "  _warn_prf(average, modifier, msg_start, len(result))\n"
          ],
          "name": "stderr"
        }
      ]
    },
    {
      "cell_type": "code",
      "metadata": {
        "colab": {
          "base_uri": "https://localhost:8080/"
        },
        "id": "H_ajdKXMUSQY",
        "outputId": "052ce9d7-9c05-4cf5-eb77-fe3a8f85ced4"
      },
      "source": [
        "accuracy_score(y_test,y_pred2)"
      ],
      "execution_count": null,
      "outputs": [
        {
          "output_type": "execute_result",
          "data": {
            "text/plain": [
              "0.46153846153846156"
            ]
          },
          "metadata": {
            "tags": []
          },
          "execution_count": 60
        }
      ]
    },
    {
      "cell_type": "code",
      "metadata": {
        "colab": {
          "base_uri": "https://localhost:8080/"
        },
        "id": "z1jvpPygUU7i",
        "outputId": "328b1c69-d6b5-4b5b-b614-203e3fd693dd"
      },
      "source": [
        "from sklearn.metrics import classification_report \n",
        "from sklearn.svm import SVC\n",
        "\n",
        "model3 = SVC(random_state=1) # get instance of model\n",
        "model3.fit(x_train, y_train) # Train/Fit model \n",
        "\n",
        "y_pred3 = model3.predict(x_test) # get y predictions\n",
        "print(classification_report(y_test, y_pred3)) # output accuracy"
      ],
      "execution_count": null,
      "outputs": [
        {
          "output_type": "stream",
          "text": [
            "              precision    recall  f1-score   support\n",
            "\n",
            "           1       0.00      0.00      0.00         1\n",
            "           3       0.00      0.00      0.00         3\n",
            "           4       0.40      0.67      0.50         6\n",
            "           5       0.75      0.75      0.75        16\n",
            "\n",
            "    accuracy                           0.62        26\n",
            "   macro avg       0.29      0.35      0.31        26\n",
            "weighted avg       0.55      0.62      0.58        26\n",
            "\n"
          ],
          "name": "stdout"
        },
        {
          "output_type": "stream",
          "text": [
            "/usr/local/lib/python3.7/dist-packages/sklearn/metrics/_classification.py:1272: UndefinedMetricWarning: Precision and F-score are ill-defined and being set to 0.0 in labels with no predicted samples. Use `zero_division` parameter to control this behavior.\n",
            "  _warn_prf(average, modifier, msg_start, len(result))\n"
          ],
          "name": "stderr"
        }
      ]
    },
    {
      "cell_type": "code",
      "metadata": {
        "colab": {
          "base_uri": "https://localhost:8080/"
        },
        "id": "4ezwn8NiUZXH",
        "outputId": "b8de0277-b484-4b24-e9aa-99f7d4303c01"
      },
      "source": [
        "accuracy_score(y_test,y_pred3)"
      ],
      "execution_count": null,
      "outputs": [
        {
          "output_type": "execute_result",
          "data": {
            "text/plain": [
              "0.6153846153846154"
            ]
          },
          "metadata": {
            "tags": []
          },
          "execution_count": 62
        }
      ]
    },
    {
      "cell_type": "code",
      "metadata": {
        "colab": {
          "base_uri": "https://localhost:8080/"
        },
        "id": "EZh8ZxLbUcAt",
        "outputId": "43f977cc-c82c-4845-c690-aa5973f66c2d"
      },
      "source": [
        "from sklearn.metrics import classification_report \n",
        "from sklearn.naive_bayes import GaussianNB\n",
        "\n",
        "model4 = GaussianNB() # get instance of model\n",
        "model4.fit(x_train, y_train) # Train/Fit model \n",
        "\n",
        "y_pred4 = model4.predict(x_test) # get y predictions\n",
        "print(classification_report(y_test, y_pred4)) # output accuracy"
      ],
      "execution_count": null,
      "outputs": [
        {
          "output_type": "stream",
          "text": [
            "              precision    recall  f1-score   support\n",
            "\n",
            "           1       0.00      0.00      0.00         1\n",
            "           3       0.33      0.33      0.33         3\n",
            "           4       0.50      0.67      0.57         6\n",
            "           5       0.73      0.69      0.71        16\n",
            "\n",
            "    accuracy                           0.62        26\n",
            "   macro avg       0.39      0.42      0.40        26\n",
            "weighted avg       0.61      0.62      0.61        26\n",
            "\n"
          ],
          "name": "stdout"
        },
        {
          "output_type": "stream",
          "text": [
            "/usr/local/lib/python3.7/dist-packages/sklearn/metrics/_classification.py:1272: UndefinedMetricWarning: Precision and F-score are ill-defined and being set to 0.0 in labels with no predicted samples. Use `zero_division` parameter to control this behavior.\n",
            "  _warn_prf(average, modifier, msg_start, len(result))\n"
          ],
          "name": "stderr"
        }
      ]
    },
    {
      "cell_type": "code",
      "metadata": {
        "colab": {
          "base_uri": "https://localhost:8080/"
        },
        "id": "GYw1NnGnUfL4",
        "outputId": "b7118cb1-2de8-4bb2-8e3f-9df0373317af"
      },
      "source": [
        "accuracy_score(y_test,y_pred4)"
      ],
      "execution_count": null,
      "outputs": [
        {
          "output_type": "execute_result",
          "data": {
            "text/plain": [
              "0.6153846153846154"
            ]
          },
          "metadata": {
            "tags": []
          },
          "execution_count": 64
        }
      ]
    },
    {
      "cell_type": "code",
      "metadata": {
        "colab": {
          "base_uri": "https://localhost:8080/"
        },
        "id": "Y1QUQhBXUhXE",
        "outputId": "bbb1c96c-5e13-47d0-ae7b-583b8718c003"
      },
      "source": [
        "from sklearn.metrics import classification_report \n",
        "from sklearn.tree import DecisionTreeClassifier\n",
        "\n",
        "model5 = DecisionTreeClassifier(random_state=1) # get instance of model\n",
        "model5.fit(x_train, y_train) # Train/Fit model \n",
        "\n",
        "y_pred5 = model5.predict(x_test) # get y predictions\n",
        "print(classification_report(y_test, y_pred5)) # output accuracy"
      ],
      "execution_count": null,
      "outputs": [
        {
          "output_type": "stream",
          "text": [
            "              precision    recall  f1-score   support\n",
            "\n",
            "           1       0.00      0.00      0.00         1\n",
            "           3       0.00      0.00      0.00         3\n",
            "           4       0.56      0.83      0.67         6\n",
            "           5       0.75      0.56      0.64        16\n",
            "\n",
            "    accuracy                           0.54        26\n",
            "   macro avg       0.33      0.35      0.33        26\n",
            "weighted avg       0.59      0.54      0.55        26\n",
            "\n"
          ],
          "name": "stdout"
        },
        {
          "output_type": "stream",
          "text": [
            "/usr/local/lib/python3.7/dist-packages/sklearn/metrics/_classification.py:1272: UndefinedMetricWarning: Precision and F-score are ill-defined and being set to 0.0 in labels with no predicted samples. Use `zero_division` parameter to control this behavior.\n",
            "  _warn_prf(average, modifier, msg_start, len(result))\n"
          ],
          "name": "stderr"
        }
      ]
    },
    {
      "cell_type": "code",
      "metadata": {
        "colab": {
          "base_uri": "https://localhost:8080/"
        },
        "id": "vDgICHNoUjdY",
        "outputId": "2adcd21e-cc17-4756-cdac-369fe372b823"
      },
      "source": [
        "accuracy_score(y_test,y_pred5)"
      ],
      "execution_count": null,
      "outputs": [
        {
          "output_type": "execute_result",
          "data": {
            "text/plain": [
              "0.5384615384615384"
            ]
          },
          "metadata": {
            "tags": []
          },
          "execution_count": 24
        }
      ]
    },
    {
      "cell_type": "code",
      "metadata": {
        "colab": {
          "base_uri": "https://localhost:8080/"
        },
        "id": "X6SKa-hyUlmg",
        "outputId": "bb7ed74e-b19b-431a-a226-10e9ae3110e0"
      },
      "source": [
        "from sklearn.metrics import classification_report \n",
        "from sklearn.ensemble import RandomForestClassifier\n",
        "\n",
        "model6 = RandomForestClassifier(random_state=1)# get instance of model\n",
        "model6.fit(x_train, y_train) # Train/Fit model \n",
        "\n",
        "y_pred6 = model6.predict(x_test) # get y predictions\n",
        "print(classification_report(y_test, y_pred6)) # output accuracy"
      ],
      "execution_count": null,
      "outputs": [
        {
          "output_type": "stream",
          "text": [
            "              precision    recall  f1-score   support\n",
            "\n",
            "           1       0.00      0.00      0.00         1\n",
            "           3       0.00      0.00      0.00         3\n",
            "           4       0.56      0.83      0.67         6\n",
            "           5       0.79      0.69      0.73        16\n",
            "\n",
            "    accuracy                           0.62        26\n",
            "   macro avg       0.34      0.38      0.35        26\n",
            "weighted avg       0.61      0.62      0.61        26\n",
            "\n"
          ],
          "name": "stdout"
        },
        {
          "output_type": "stream",
          "text": [
            "/usr/local/lib/python3.7/dist-packages/sklearn/metrics/_classification.py:1272: UndefinedMetricWarning: Precision and F-score are ill-defined and being set to 0.0 in labels with no predicted samples. Use `zero_division` parameter to control this behavior.\n",
            "  _warn_prf(average, modifier, msg_start, len(result))\n"
          ],
          "name": "stderr"
        }
      ]
    },
    {
      "cell_type": "code",
      "metadata": {
        "colab": {
          "base_uri": "https://localhost:8080/"
        },
        "id": "cb5eoyjaUpFw",
        "outputId": "7959d6de-389f-4631-91fa-e575940f3f59"
      },
      "source": [
        "accuracy_score(y_test,y_pred6)"
      ],
      "execution_count": null,
      "outputs": [
        {
          "output_type": "execute_result",
          "data": {
            "text/plain": [
              "0.6153846153846154"
            ]
          },
          "metadata": {
            "tags": []
          },
          "execution_count": 26
        }
      ]
    },
    {
      "cell_type": "markdown",
      "metadata": {
        "id": "qwuInnVZWNSV"
      },
      "source": [
        "#özelliklerin önemi:"
      ]
    },
    {
      "cell_type": "code",
      "metadata": {
        "colab": {
          "base_uri": "https://localhost:8080/"
        },
        "id": "aP_jZVsfUr5i",
        "outputId": "e0c6c65f-c387-41da-d51f-f3da6ca8b9c0"
      },
      "source": [
        "importance = model6.feature_importances_\n",
        "\n",
        "# summarize feature importance\n",
        "for i,v in enumerate(importance):\n",
        "    print('Feature: %0d, Score: %.5f' % (i,v))"
      ],
      "execution_count": null,
      "outputs": [
        {
          "output_type": "stream",
          "text": [
            "Feature: 0, Score: 0.07885\n",
            "Feature: 1, Score: 0.29498\n",
            "Feature: 2, Score: 0.14966\n",
            "Feature: 3, Score: 0.15048\n",
            "Feature: 4, Score: 0.15370\n",
            "Feature: 5, Score: 0.17232\n"
          ],
          "name": "stdout"
        }
      ]
    },
    {
      "cell_type": "code",
      "metadata": {
        "colab": {
          "base_uri": "https://localhost:8080/",
          "height": 282
        },
        "id": "g3Q9AokiVtT_",
        "outputId": "c048537d-1afc-46ea-f87f-59bdbad2e0e4"
      },
      "source": [
        "index= data.columns[:-1]\n",
        "importance = pd.Series(model6.feature_importances_, index=index)\n",
        "importance.nlargest(13).plot(kind='barh', colormap='winter')"
      ],
      "execution_count": null,
      "outputs": [
        {
          "output_type": "execute_result",
          "data": {
            "text/plain": [
              "<matplotlib.axes._subplots.AxesSubplot at 0x7f0890468d10>"
            ]
          },
          "metadata": {
            "tags": []
          },
          "execution_count": 66
        },
        {
          "output_type": "display_data",
          "data": {
            "image/png": "[encoded data removed]",
            "text/plain": [
              "<Figure size 432x288 with 1 Axes>"
            ]
          },
          "metadata": {
            "tags": [],
            "needs_background": "light"
          }
        }
      ]
    },
    {
      "cell_type": "code",
      "metadata": {
        "id": "g3BhiJbmVwhY"
      },
      "source": [
        ""
      ],
      "execution_count": null,
      "outputs": []
    }
  ]
}